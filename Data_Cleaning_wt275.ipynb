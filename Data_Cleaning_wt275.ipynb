{
 "cells": [
  {
   "cell_type": "markdown",
   "metadata": {},
   "source": [
    "## CS5304/INFO5304 - Data Science: Airbnb Project\n",
    "William Tung - wt275\n",
    "### EDA & Data Cleaning"
   ]
  },
  {
   "cell_type": "code",
   "execution_count": 1,
   "metadata": {},
   "outputs": [],
   "source": [
    "# Packages\n",
    "import numpy as np\n",
    "import pandas as pd"
   ]
  },
  {
   "cell_type": "markdown",
   "metadata": {},
   "source": [
    "#### Preliminary EDA & Dataset Overview"
   ]
  },
  {
   "cell_type": "code",
   "execution_count": 2,
   "metadata": {},
   "outputs": [
    {
     "name": "stdout",
     "output_type": "stream",
     "text": [
      "Dataset Shape: (48895, 16)\n"
     ]
    },
    {
     "data": {
      "text/html": [
       "<div>\n",
       "<style scoped>\n",
       "    .dataframe tbody tr th:only-of-type {\n",
       "        vertical-align: middle;\n",
       "    }\n",
       "\n",
       "    .dataframe tbody tr th {\n",
       "        vertical-align: top;\n",
       "    }\n",
       "\n",
       "    .dataframe thead th {\n",
       "        text-align: right;\n",
       "    }\n",
       "</style>\n",
       "<table border=\"1\" class=\"dataframe\">\n",
       "  <thead>\n",
       "    <tr style=\"text-align: right;\">\n",
       "      <th></th>\n",
       "      <th>id</th>\n",
       "      <th>host_id</th>\n",
       "      <th>latitude</th>\n",
       "      <th>longitude</th>\n",
       "      <th>price</th>\n",
       "      <th>minimum_nights</th>\n",
       "      <th>number_of_reviews</th>\n",
       "      <th>reviews_per_month</th>\n",
       "      <th>calculated_host_listings_count</th>\n",
       "      <th>availability_365</th>\n",
       "    </tr>\n",
       "  </thead>\n",
       "  <tbody>\n",
       "    <tr>\n",
       "      <th>count</th>\n",
       "      <td>4.889500e+04</td>\n",
       "      <td>4.889500e+04</td>\n",
       "      <td>48895.000000</td>\n",
       "      <td>48895.000000</td>\n",
       "      <td>48895.000000</td>\n",
       "      <td>48895.000000</td>\n",
       "      <td>48895.000000</td>\n",
       "      <td>48895.000000</td>\n",
       "      <td>48895.000000</td>\n",
       "      <td>48895.000000</td>\n",
       "    </tr>\n",
       "    <tr>\n",
       "      <th>mean</th>\n",
       "      <td>1.901714e+07</td>\n",
       "      <td>6.762001e+07</td>\n",
       "      <td>40.728949</td>\n",
       "      <td>-73.952170</td>\n",
       "      <td>152.720687</td>\n",
       "      <td>7.029962</td>\n",
       "      <td>23.274466</td>\n",
       "      <td>1.090910</td>\n",
       "      <td>7.143982</td>\n",
       "      <td>112.781327</td>\n",
       "    </tr>\n",
       "    <tr>\n",
       "      <th>std</th>\n",
       "      <td>1.098311e+07</td>\n",
       "      <td>7.861097e+07</td>\n",
       "      <td>0.054530</td>\n",
       "      <td>0.046157</td>\n",
       "      <td>240.154170</td>\n",
       "      <td>20.510550</td>\n",
       "      <td>44.550582</td>\n",
       "      <td>1.597283</td>\n",
       "      <td>32.952519</td>\n",
       "      <td>131.622289</td>\n",
       "    </tr>\n",
       "    <tr>\n",
       "      <th>min</th>\n",
       "      <td>2.539000e+03</td>\n",
       "      <td>2.438000e+03</td>\n",
       "      <td>40.499790</td>\n",
       "      <td>-74.244420</td>\n",
       "      <td>0.000000</td>\n",
       "      <td>1.000000</td>\n",
       "      <td>0.000000</td>\n",
       "      <td>0.000000</td>\n",
       "      <td>1.000000</td>\n",
       "      <td>0.000000</td>\n",
       "    </tr>\n",
       "    <tr>\n",
       "      <th>25%</th>\n",
       "      <td>9.471945e+06</td>\n",
       "      <td>7.822033e+06</td>\n",
       "      <td>40.690100</td>\n",
       "      <td>-73.983070</td>\n",
       "      <td>69.000000</td>\n",
       "      <td>1.000000</td>\n",
       "      <td>1.000000</td>\n",
       "      <td>0.040000</td>\n",
       "      <td>1.000000</td>\n",
       "      <td>0.000000</td>\n",
       "    </tr>\n",
       "    <tr>\n",
       "      <th>50%</th>\n",
       "      <td>1.967728e+07</td>\n",
       "      <td>3.079382e+07</td>\n",
       "      <td>40.723070</td>\n",
       "      <td>-73.955680</td>\n",
       "      <td>106.000000</td>\n",
       "      <td>3.000000</td>\n",
       "      <td>5.000000</td>\n",
       "      <td>0.370000</td>\n",
       "      <td>1.000000</td>\n",
       "      <td>45.000000</td>\n",
       "    </tr>\n",
       "    <tr>\n",
       "      <th>75%</th>\n",
       "      <td>2.915218e+07</td>\n",
       "      <td>1.074344e+08</td>\n",
       "      <td>40.763115</td>\n",
       "      <td>-73.936275</td>\n",
       "      <td>175.000000</td>\n",
       "      <td>5.000000</td>\n",
       "      <td>24.000000</td>\n",
       "      <td>1.580000</td>\n",
       "      <td>2.000000</td>\n",
       "      <td>227.000000</td>\n",
       "    </tr>\n",
       "    <tr>\n",
       "      <th>max</th>\n",
       "      <td>3.648724e+07</td>\n",
       "      <td>2.743213e+08</td>\n",
       "      <td>40.913060</td>\n",
       "      <td>-73.712990</td>\n",
       "      <td>10000.000000</td>\n",
       "      <td>1250.000000</td>\n",
       "      <td>629.000000</td>\n",
       "      <td>58.500000</td>\n",
       "      <td>327.000000</td>\n",
       "      <td>365.000000</td>\n",
       "    </tr>\n",
       "  </tbody>\n",
       "</table>\n",
       "</div>"
      ],
      "text/plain": [
       "                 id       host_id      latitude     longitude         price  \\\n",
       "count  4.889500e+04  4.889500e+04  48895.000000  48895.000000  48895.000000   \n",
       "mean   1.901714e+07  6.762001e+07     40.728949    -73.952170    152.720687   \n",
       "std    1.098311e+07  7.861097e+07      0.054530      0.046157    240.154170   \n",
       "min    2.539000e+03  2.438000e+03     40.499790    -74.244420      0.000000   \n",
       "25%    9.471945e+06  7.822033e+06     40.690100    -73.983070     69.000000   \n",
       "50%    1.967728e+07  3.079382e+07     40.723070    -73.955680    106.000000   \n",
       "75%    2.915218e+07  1.074344e+08     40.763115    -73.936275    175.000000   \n",
       "max    3.648724e+07  2.743213e+08     40.913060    -73.712990  10000.000000   \n",
       "\n",
       "       minimum_nights  number_of_reviews  reviews_per_month  \\\n",
       "count    48895.000000       48895.000000       48895.000000   \n",
       "mean         7.029962          23.274466           1.090910   \n",
       "std         20.510550          44.550582           1.597283   \n",
       "min          1.000000           0.000000           0.000000   \n",
       "25%          1.000000           1.000000           0.040000   \n",
       "50%          3.000000           5.000000           0.370000   \n",
       "75%          5.000000          24.000000           1.580000   \n",
       "max       1250.000000         629.000000          58.500000   \n",
       "\n",
       "       calculated_host_listings_count  availability_365  \n",
       "count                    48895.000000      48895.000000  \n",
       "mean                         7.143982        112.781327  \n",
       "std                         32.952519        131.622289  \n",
       "min                          1.000000          0.000000  \n",
       "25%                          1.000000          0.000000  \n",
       "50%                          1.000000         45.000000  \n",
       "75%                          2.000000        227.000000  \n",
       "max                        327.000000        365.000000  "
      ]
     },
     "execution_count": 2,
     "metadata": {},
     "output_type": "execute_result"
    }
   ],
   "source": [
    "# Airbnb NYC 2019 Data\n",
    "data = pd.read_csv('data/AB_NYC_2019_CLEAN.csv')\n",
    "print('Dataset Shape:',data.shape)\n",
    "data.describe()"
   ]
  },
  {
   "cell_type": "markdown",
   "metadata": {},
   "source": [
    "##### Columns Types"
   ]
  },
  {
   "cell_type": "code",
   "execution_count": 3,
   "metadata": {},
   "outputs": [
    {
     "name": "stdout",
     "output_type": "stream",
     "text": [
      "Columns and dtype\n"
     ]
    },
    {
     "data": {
      "text/plain": [
       "id                                  int64\n",
       "name                               object\n",
       "host_id                             int64\n",
       "host_name                          object\n",
       "neighbourhood_group                object\n",
       "neighbourhood                      object\n",
       "latitude                          float64\n",
       "longitude                         float64\n",
       "room_type                          object\n",
       "price                               int64\n",
       "minimum_nights                      int64\n",
       "number_of_reviews                   int64\n",
       "last_review                        object\n",
       "reviews_per_month                 float64\n",
       "calculated_host_listings_count      int64\n",
       "availability_365                    int64\n",
       "dtype: object"
      ]
     },
     "execution_count": 3,
     "metadata": {},
     "output_type": "execute_result"
    }
   ],
   "source": [
    "print('Columns and dtype')\n",
    "data.dtypes"
   ]
  },
  {
   "cell_type": "markdown",
   "metadata": {},
   "source": [
    "##### Missing Values Count\n",
    "We can see from the missing value counts per column that the dataset appears to be relatively clean except for four columns. 'last_review' and 'reviews_per_month' both have an equally high 10,052 missing values, while 'name' and 'host_name' are missing a respective 16 and 21 entries. All other columns do not have any missing values as marked with null or N/A. Upon checking the other columns and their descriptive purpose, we can conclude that the missing value notation for this dataset is 'NaN' and all other zero value entries appear to be valid for the respective columns.\n",
    "\n",
    "As for missing value handling, we can leave 'name' and 'host_name' as is since those fields aren't crucial to identify the listing or the host which both have a corresponding ID field. Potential analysis related to these name fields could revolve on the 'attractiveness' of the listing name or possible bias towards a host name. Segmentation and consideration will be given to these fields if that type of analysis is explored. \n",
    "\n",
    "Since the columns 'last_review' and 'reviews_per_month' are quantitative fields, we will need to fill values for analysis. It is likely that these missing value entries are related to listing that have not had a review or a guest yet. Both of these described scenarios is completely valid. "
   ]
  },
  {
   "cell_type": "code",
   "execution_count": 4,
   "metadata": {
    "scrolled": true
   },
   "outputs": [
    {
     "name": "stdout",
     "output_type": "stream",
     "text": [
      "Columns and Missing Value Counts\n"
     ]
    },
    {
     "data": {
      "text/plain": [
       "id                                 0\n",
       "name                              16\n",
       "host_id                            0\n",
       "host_name                         21\n",
       "neighbourhood_group                0\n",
       "neighbourhood                      0\n",
       "latitude                           0\n",
       "longitude                          0\n",
       "room_type                          0\n",
       "price                              0\n",
       "minimum_nights                     0\n",
       "number_of_reviews                  0\n",
       "last_review                        0\n",
       "reviews_per_month                  0\n",
       "calculated_host_listings_count     0\n",
       "availability_365                   0\n",
       "dtype: int64"
      ]
     },
     "execution_count": 4,
     "metadata": {},
     "output_type": "execute_result"
    }
   ],
   "source": [
    "print('Columns and Missing Value Counts')\n",
    "data.isna().sum()"
   ]
  },
  {
   "cell_type": "code",
   "execution_count": 5,
   "metadata": {},
   "outputs": [
    {
     "name": "stdout",
     "output_type": "stream",
     "text": [
      "# of common occurrences: 0\n"
     ]
    }
   ],
   "source": [
    "# Testing no reviews for missing NaN review columns\n",
    "print('# of common occurrences:',len(data[(data['number_of_reviews'] == 0)\\\n",
    "    & (data['last_review'].isna()) & (data['reviews_per_month']).isna()]))"
   ]
  },
  {
   "cell_type": "markdown",
   "metadata": {},
   "source": [
    "##### Missing Value Handling\n",
    "Infact there are no reviews (0) for when 'number_of_reviews' and 'reviews_per_month' is NaN, as both the NaN count and common occurrence count is 10,052. Our method to fill these NaN entries will be to replace NaN with zeros, so we can use these columns for quantitative analysis. Choosing zero as the replacement value is valid for the meaning of these columns and also follows the 'number_of_reviews' notation of having zero values as well."
   ]
  },
  {
   "cell_type": "code",
   "execution_count": 6,
   "metadata": {},
   "outputs": [
    {
     "data": {
      "text/plain": [
       "id                                 0\n",
       "name                              16\n",
       "host_id                            0\n",
       "host_name                         21\n",
       "neighbourhood_group                0\n",
       "neighbourhood                      0\n",
       "latitude                           0\n",
       "longitude                          0\n",
       "room_type                          0\n",
       "price                              0\n",
       "minimum_nights                     0\n",
       "number_of_reviews                  0\n",
       "last_review                        0\n",
       "reviews_per_month                  0\n",
       "calculated_host_listings_count     0\n",
       "availability_365                   0\n",
       "dtype: int64"
      ]
     },
     "execution_count": 6,
     "metadata": {},
     "output_type": "execute_result"
    }
   ],
   "source": [
    "# Creating a clean copy of the dataset\n",
    "data_clean = data.copy()\n",
    "# Fill Nan Values with 0\n",
    "data_clean['last_review'] = data_clean[['last_review']].fillna(0) # last_review\n",
    "data_clean['reviews_per_month'] = data_clean[['reviews_per_month']].fillna(0) # last_review\n",
    "# Check Missing Values\n",
    "data_clean.isna().sum()"
   ]
  },
  {
   "cell_type": "code",
   "execution_count": 7,
   "metadata": {},
   "outputs": [
    {
     "data": {
      "text/html": [
       "<div>\n",
       "<style scoped>\n",
       "    .dataframe tbody tr th:only-of-type {\n",
       "        vertical-align: middle;\n",
       "    }\n",
       "\n",
       "    .dataframe tbody tr th {\n",
       "        vertical-align: top;\n",
       "    }\n",
       "\n",
       "    .dataframe thead th {\n",
       "        text-align: right;\n",
       "    }\n",
       "</style>\n",
       "<table border=\"1\" class=\"dataframe\">\n",
       "  <thead>\n",
       "    <tr style=\"text-align: right;\">\n",
       "      <th></th>\n",
       "      <th>id</th>\n",
       "      <th>name</th>\n",
       "      <th>host_id</th>\n",
       "      <th>host_name</th>\n",
       "      <th>neighbourhood_group</th>\n",
       "      <th>neighbourhood</th>\n",
       "      <th>latitude</th>\n",
       "      <th>longitude</th>\n",
       "      <th>room_type</th>\n",
       "      <th>price</th>\n",
       "      <th>minimum_nights</th>\n",
       "      <th>number_of_reviews</th>\n",
       "      <th>last_review</th>\n",
       "      <th>reviews_per_month</th>\n",
       "      <th>calculated_host_listings_count</th>\n",
       "      <th>availability_365</th>\n",
       "    </tr>\n",
       "  </thead>\n",
       "  <tbody>\n",
       "    <tr>\n",
       "      <th>0</th>\n",
       "      <td>2539</td>\n",
       "      <td>Clean &amp; quiet apt home by the park</td>\n",
       "      <td>2787</td>\n",
       "      <td>John</td>\n",
       "      <td>Brooklyn</td>\n",
       "      <td>Kensington</td>\n",
       "      <td>40.64749</td>\n",
       "      <td>-73.97237</td>\n",
       "      <td>Private room</td>\n",
       "      <td>149</td>\n",
       "      <td>1</td>\n",
       "      <td>9</td>\n",
       "      <td>2018-10-19</td>\n",
       "      <td>0.21</td>\n",
       "      <td>6</td>\n",
       "      <td>365</td>\n",
       "    </tr>\n",
       "    <tr>\n",
       "      <th>1</th>\n",
       "      <td>2595</td>\n",
       "      <td>Skylit Midtown Castle</td>\n",
       "      <td>2845</td>\n",
       "      <td>Jennifer</td>\n",
       "      <td>Manhattan</td>\n",
       "      <td>Midtown</td>\n",
       "      <td>40.75362</td>\n",
       "      <td>-73.98377</td>\n",
       "      <td>Entire home/apt</td>\n",
       "      <td>225</td>\n",
       "      <td>1</td>\n",
       "      <td>45</td>\n",
       "      <td>2019-05-21</td>\n",
       "      <td>0.38</td>\n",
       "      <td>2</td>\n",
       "      <td>355</td>\n",
       "    </tr>\n",
       "    <tr>\n",
       "      <th>2</th>\n",
       "      <td>3647</td>\n",
       "      <td>THE VILLAGE OF HARLEM....NEW YORK !</td>\n",
       "      <td>4632</td>\n",
       "      <td>Elisabeth</td>\n",
       "      <td>Manhattan</td>\n",
       "      <td>Harlem</td>\n",
       "      <td>40.80902</td>\n",
       "      <td>-73.94190</td>\n",
       "      <td>Private room</td>\n",
       "      <td>150</td>\n",
       "      <td>3</td>\n",
       "      <td>0</td>\n",
       "      <td>0</td>\n",
       "      <td>0.00</td>\n",
       "      <td>1</td>\n",
       "      <td>365</td>\n",
       "    </tr>\n",
       "    <tr>\n",
       "      <th>3</th>\n",
       "      <td>3831</td>\n",
       "      <td>Cozy Entire Floor of Brownstone</td>\n",
       "      <td>4869</td>\n",
       "      <td>LisaRoxanne</td>\n",
       "      <td>Brooklyn</td>\n",
       "      <td>Clinton Hill</td>\n",
       "      <td>40.68514</td>\n",
       "      <td>-73.95976</td>\n",
       "      <td>Entire home/apt</td>\n",
       "      <td>89</td>\n",
       "      <td>1</td>\n",
       "      <td>270</td>\n",
       "      <td>2019-07-05</td>\n",
       "      <td>4.64</td>\n",
       "      <td>1</td>\n",
       "      <td>194</td>\n",
       "    </tr>\n",
       "    <tr>\n",
       "      <th>4</th>\n",
       "      <td>5022</td>\n",
       "      <td>Entire Apt: Spacious Studio/Loft by central park</td>\n",
       "      <td>7192</td>\n",
       "      <td>Laura</td>\n",
       "      <td>Manhattan</td>\n",
       "      <td>East Harlem</td>\n",
       "      <td>40.79851</td>\n",
       "      <td>-73.94399</td>\n",
       "      <td>Entire home/apt</td>\n",
       "      <td>80</td>\n",
       "      <td>10</td>\n",
       "      <td>9</td>\n",
       "      <td>2018-11-19</td>\n",
       "      <td>0.10</td>\n",
       "      <td>1</td>\n",
       "      <td>0</td>\n",
       "    </tr>\n",
       "  </tbody>\n",
       "</table>\n",
       "</div>"
      ],
      "text/plain": [
       "     id                                              name  host_id  \\\n",
       "0  2539                Clean & quiet apt home by the park     2787   \n",
       "1  2595                             Skylit Midtown Castle     2845   \n",
       "2  3647               THE VILLAGE OF HARLEM....NEW YORK !     4632   \n",
       "3  3831                   Cozy Entire Floor of Brownstone     4869   \n",
       "4  5022  Entire Apt: Spacious Studio/Loft by central park     7192   \n",
       "\n",
       "     host_name neighbourhood_group neighbourhood  latitude  longitude  \\\n",
       "0         John            Brooklyn    Kensington  40.64749  -73.97237   \n",
       "1     Jennifer           Manhattan       Midtown  40.75362  -73.98377   \n",
       "2    Elisabeth           Manhattan        Harlem  40.80902  -73.94190   \n",
       "3  LisaRoxanne            Brooklyn  Clinton Hill  40.68514  -73.95976   \n",
       "4        Laura           Manhattan   East Harlem  40.79851  -73.94399   \n",
       "\n",
       "         room_type  price  minimum_nights  number_of_reviews last_review  \\\n",
       "0     Private room    149               1                  9  2018-10-19   \n",
       "1  Entire home/apt    225               1                 45  2019-05-21   \n",
       "2     Private room    150               3                  0           0   \n",
       "3  Entire home/apt     89               1                270  2019-07-05   \n",
       "4  Entire home/apt     80              10                  9  2018-11-19   \n",
       "\n",
       "   reviews_per_month  calculated_host_listings_count  availability_365  \n",
       "0               0.21                               6               365  \n",
       "1               0.38                               2               355  \n",
       "2               0.00                               1               365  \n",
       "3               4.64                               1               194  \n",
       "4               0.10                               1                 0  "
      ]
     },
     "execution_count": 7,
     "metadata": {},
     "output_type": "execute_result"
    }
   ],
   "source": [
    "# data_clean summary\n",
    "data_clean.head()"
   ]
  },
  {
   "cell_type": "markdown",
   "metadata": {},
   "source": [
    "##### Write data_clean csv"
   ]
  },
  {
   "cell_type": "code",
   "execution_count": 8,
   "metadata": {},
   "outputs": [
    {
     "name": "stdout",
     "output_type": "stream",
     "text": [
      "data_clean output to data/AB_NYC_2019_CLEAN.csv\n"
     ]
    }
   ],
   "source": [
    "# Output file\n",
    "data_clean.to_csv('data/AB_NYC_2019_CLEAN.csv',index=False)\n",
    "print('data_clean output to data/AB_NYC_2019_CLEAN.csv')"
   ]
  },
  {
   "cell_type": "code",
   "execution_count": 9,
   "metadata": {},
   "outputs": [],
   "source": [
    "dhoods = data['neighbourhood'].unique()"
   ]
  },
  {
   "cell_type": "code",
   "execution_count": 10,
   "metadata": {},
   "outputs": [
    {
     "name": "stderr",
     "output_type": "stream",
     "text": [
      "/Users/williamtung/anaconda3/anaconda3/lib/python3.7/site-packages/IPython/core/interactiveshell.py:3063: DtypeWarning: Columns (61,62,94,95) have mixed types.Specify dtype option on import or set low_memory=False.\n",
      "  interactivity=interactivity, compiler=compiler, result=result)\n"
     ]
    },
    {
     "data": {
      "text/html": [
       "<div>\n",
       "<style scoped>\n",
       "    .dataframe tbody tr th:only-of-type {\n",
       "        vertical-align: middle;\n",
       "    }\n",
       "\n",
       "    .dataframe tbody tr th {\n",
       "        vertical-align: top;\n",
       "    }\n",
       "\n",
       "    .dataframe thead th {\n",
       "        text-align: right;\n",
       "    }\n",
       "</style>\n",
       "<table border=\"1\" class=\"dataframe\">\n",
       "  <thead>\n",
       "    <tr style=\"text-align: right;\">\n",
       "      <th></th>\n",
       "      <th>id</th>\n",
       "      <th>listing_url</th>\n",
       "      <th>scrape_id</th>\n",
       "      <th>last_scraped</th>\n",
       "      <th>name</th>\n",
       "      <th>summary</th>\n",
       "      <th>space</th>\n",
       "      <th>description</th>\n",
       "      <th>experiences_offered</th>\n",
       "      <th>neighborhood_overview</th>\n",
       "      <th>...</th>\n",
       "      <th>instant_bookable</th>\n",
       "      <th>is_business_travel_ready</th>\n",
       "      <th>cancellation_policy</th>\n",
       "      <th>require_guest_profile_picture</th>\n",
       "      <th>require_guest_phone_verification</th>\n",
       "      <th>calculated_host_listings_count</th>\n",
       "      <th>calculated_host_listings_count_entire_homes</th>\n",
       "      <th>calculated_host_listings_count_private_rooms</th>\n",
       "      <th>calculated_host_listings_count_shared_rooms</th>\n",
       "      <th>reviews_per_month</th>\n",
       "    </tr>\n",
       "  </thead>\n",
       "  <tbody>\n",
       "    <tr>\n",
       "      <th>0</th>\n",
       "      <td>2060</td>\n",
       "      <td>https://www.airbnb.com/rooms/2060</td>\n",
       "      <td>20200408162728</td>\n",
       "      <td>2020-04-09</td>\n",
       "      <td>Modern NYC</td>\n",
       "      <td>NaN</td>\n",
       "      <td>Lovely, spacious, sunny 1 BR apartment in 6th ...</td>\n",
       "      <td>Lovely, spacious, sunny 1 BR apartment in 6th ...</td>\n",
       "      <td>none</td>\n",
       "      <td>NaN</td>\n",
       "      <td>...</td>\n",
       "      <td>f</td>\n",
       "      <td>f</td>\n",
       "      <td>flexible</td>\n",
       "      <td>f</td>\n",
       "      <td>f</td>\n",
       "      <td>1</td>\n",
       "      <td>0</td>\n",
       "      <td>1</td>\n",
       "      <td>0</td>\n",
       "      <td>0.01</td>\n",
       "    </tr>\n",
       "    <tr>\n",
       "      <th>1</th>\n",
       "      <td>2595</td>\n",
       "      <td>https://www.airbnb.com/rooms/2595</td>\n",
       "      <td>20200408162728</td>\n",
       "      <td>2020-04-10</td>\n",
       "      <td>Skylit Midtown Castle</td>\n",
       "      <td>Beautiful, spacious skylit studio in the heart...</td>\n",
       "      <td>- Spacious (500+ft²), immaculate and nicely fu...</td>\n",
       "      <td>Beautiful, spacious skylit studio in the heart...</td>\n",
       "      <td>none</td>\n",
       "      <td>Centrally located in the heart of Manhattan ju...</td>\n",
       "      <td>...</td>\n",
       "      <td>f</td>\n",
       "      <td>f</td>\n",
       "      <td>strict_14_with_grace_period</td>\n",
       "      <td>t</td>\n",
       "      <td>t</td>\n",
       "      <td>2</td>\n",
       "      <td>2</td>\n",
       "      <td>0</td>\n",
       "      <td>0</td>\n",
       "      <td>0.38</td>\n",
       "    </tr>\n",
       "    <tr>\n",
       "      <th>2</th>\n",
       "      <td>3831</td>\n",
       "      <td>https://www.airbnb.com/rooms/3831</td>\n",
       "      <td>20200408162728</td>\n",
       "      <td>2020-04-11</td>\n",
       "      <td>Cozy Entire Floor of Brownstone</td>\n",
       "      <td>Urban retreat: enjoy 500 s.f. floor in 1899 br...</td>\n",
       "      <td>Greetings!      We own a double-duplex brownst...</td>\n",
       "      <td>Urban retreat: enjoy 500 s.f. floor in 1899 br...</td>\n",
       "      <td>none</td>\n",
       "      <td>Just the right mix of urban center and local n...</td>\n",
       "      <td>...</td>\n",
       "      <td>f</td>\n",
       "      <td>f</td>\n",
       "      <td>moderate</td>\n",
       "      <td>f</td>\n",
       "      <td>f</td>\n",
       "      <td>1</td>\n",
       "      <td>1</td>\n",
       "      <td>0</td>\n",
       "      <td>0</td>\n",
       "      <td>4.68</td>\n",
       "    </tr>\n",
       "    <tr>\n",
       "      <th>3</th>\n",
       "      <td>5099</td>\n",
       "      <td>https://www.airbnb.com/rooms/5099</td>\n",
       "      <td>20200408162728</td>\n",
       "      <td>2020-04-10</td>\n",
       "      <td>Large Cozy 1 BR Apartment In Midtown East</td>\n",
       "      <td>My large 1 bedroom apartment has a true New Yo...</td>\n",
       "      <td>I have a large 1 bedroom apartment centrally l...</td>\n",
       "      <td>My large 1 bedroom apartment has a true New Yo...</td>\n",
       "      <td>none</td>\n",
       "      <td>My neighborhood in Midtown East is called Murr...</td>\n",
       "      <td>...</td>\n",
       "      <td>f</td>\n",
       "      <td>f</td>\n",
       "      <td>moderate</td>\n",
       "      <td>t</td>\n",
       "      <td>t</td>\n",
       "      <td>1</td>\n",
       "      <td>1</td>\n",
       "      <td>0</td>\n",
       "      <td>0</td>\n",
       "      <td>0.58</td>\n",
       "    </tr>\n",
       "    <tr>\n",
       "      <th>4</th>\n",
       "      <td>5121</td>\n",
       "      <td>https://www.airbnb.com/rooms/5121</td>\n",
       "      <td>20200408162728</td>\n",
       "      <td>2020-04-09</td>\n",
       "      <td>BlissArtsSpace!</td>\n",
       "      <td>NaN</td>\n",
       "      <td>HELLO EVERYONE AND THANKS FOR VISITING BLISS A...</td>\n",
       "      <td>HELLO EVERYONE AND THANKS FOR VISITING BLISS A...</td>\n",
       "      <td>none</td>\n",
       "      <td>NaN</td>\n",
       "      <td>...</td>\n",
       "      <td>f</td>\n",
       "      <td>f</td>\n",
       "      <td>strict_14_with_grace_period</td>\n",
       "      <td>f</td>\n",
       "      <td>f</td>\n",
       "      <td>1</td>\n",
       "      <td>0</td>\n",
       "      <td>1</td>\n",
       "      <td>0</td>\n",
       "      <td>0.38</td>\n",
       "    </tr>\n",
       "  </tbody>\n",
       "</table>\n",
       "<p>5 rows × 106 columns</p>\n",
       "</div>"
      ],
      "text/plain": [
       "     id                        listing_url       scrape_id last_scraped  \\\n",
       "0  2060  https://www.airbnb.com/rooms/2060  20200408162728   2020-04-09   \n",
       "1  2595  https://www.airbnb.com/rooms/2595  20200408162728   2020-04-10   \n",
       "2  3831  https://www.airbnb.com/rooms/3831  20200408162728   2020-04-11   \n",
       "3  5099  https://www.airbnb.com/rooms/5099  20200408162728   2020-04-10   \n",
       "4  5121  https://www.airbnb.com/rooms/5121  20200408162728   2020-04-09   \n",
       "\n",
       "                                        name  \\\n",
       "0                                 Modern NYC   \n",
       "1                      Skylit Midtown Castle   \n",
       "2            Cozy Entire Floor of Brownstone   \n",
       "3  Large Cozy 1 BR Apartment In Midtown East   \n",
       "4                            BlissArtsSpace!   \n",
       "\n",
       "                                             summary  \\\n",
       "0                                                NaN   \n",
       "1  Beautiful, spacious skylit studio in the heart...   \n",
       "2  Urban retreat: enjoy 500 s.f. floor in 1899 br...   \n",
       "3  My large 1 bedroom apartment has a true New Yo...   \n",
       "4                                                NaN   \n",
       "\n",
       "                                               space  \\\n",
       "0  Lovely, spacious, sunny 1 BR apartment in 6th ...   \n",
       "1  - Spacious (500+ft²), immaculate and nicely fu...   \n",
       "2  Greetings!      We own a double-duplex brownst...   \n",
       "3  I have a large 1 bedroom apartment centrally l...   \n",
       "4  HELLO EVERYONE AND THANKS FOR VISITING BLISS A...   \n",
       "\n",
       "                                         description experiences_offered  \\\n",
       "0  Lovely, spacious, sunny 1 BR apartment in 6th ...                none   \n",
       "1  Beautiful, spacious skylit studio in the heart...                none   \n",
       "2  Urban retreat: enjoy 500 s.f. floor in 1899 br...                none   \n",
       "3  My large 1 bedroom apartment has a true New Yo...                none   \n",
       "4  HELLO EVERYONE AND THANKS FOR VISITING BLISS A...                none   \n",
       "\n",
       "                               neighborhood_overview  ... instant_bookable  \\\n",
       "0                                                NaN  ...                f   \n",
       "1  Centrally located in the heart of Manhattan ju...  ...                f   \n",
       "2  Just the right mix of urban center and local n...  ...                f   \n",
       "3  My neighborhood in Midtown East is called Murr...  ...                f   \n",
       "4                                                NaN  ...                f   \n",
       "\n",
       "  is_business_travel_ready          cancellation_policy  \\\n",
       "0                        f                     flexible   \n",
       "1                        f  strict_14_with_grace_period   \n",
       "2                        f                     moderate   \n",
       "3                        f                     moderate   \n",
       "4                        f  strict_14_with_grace_period   \n",
       "\n",
       "  require_guest_profile_picture require_guest_phone_verification  \\\n",
       "0                             f                                f   \n",
       "1                             t                                t   \n",
       "2                             f                                f   \n",
       "3                             t                                t   \n",
       "4                             f                                f   \n",
       "\n",
       "   calculated_host_listings_count  \\\n",
       "0                               1   \n",
       "1                               2   \n",
       "2                               1   \n",
       "3                               1   \n",
       "4                               1   \n",
       "\n",
       "   calculated_host_listings_count_entire_homes  \\\n",
       "0                                            0   \n",
       "1                                            2   \n",
       "2                                            1   \n",
       "3                                            1   \n",
       "4                                            0   \n",
       "\n",
       "  calculated_host_listings_count_private_rooms  \\\n",
       "0                                            1   \n",
       "1                                            0   \n",
       "2                                            0   \n",
       "3                                            0   \n",
       "4                                            1   \n",
       "\n",
       "   calculated_host_listings_count_shared_rooms  reviews_per_month  \n",
       "0                                            0               0.01  \n",
       "1                                            0               0.38  \n",
       "2                                            0               4.68  \n",
       "3                                            0               0.58  \n",
       "4                                            0               0.38  \n",
       "\n",
       "[5 rows x 106 columns]"
      ]
     },
     "execution_count": 10,
     "metadata": {},
     "output_type": "execute_result"
    }
   ],
   "source": [
    "listings = pd.read_csv('data/listings.csv')\n",
    "listings.head()"
   ]
  },
  {
   "cell_type": "code",
   "execution_count": 11,
   "metadata": {},
   "outputs": [
    {
     "data": {
      "text/plain": [
       "array(['10040', '10018', '11238', '10016', '11216', '10019', '10025',\n",
       "       '10002', '10036', '10014', '11215', '11211', '10029', '11205',\n",
       "       '11217', '10034', '10003', '10031', '10027', '11237', '11226',\n",
       "       '10009', '11225', '11101', '11221', '11206', '11222', '10010',\n",
       "       '11249', '10001', '10162', '11231', '10035', '10032', '11377',\n",
       "       '11201', '11233', '10023', '10128', '11234', '11367', '10024',\n",
       "       '10028', '10069', '11104', '10065', '10301', '10013', '10452',\n",
       "       '10039', '11385', '10021', '10011', '10075', '11434', '11379',\n",
       "       '10026', '11105', '10044', '10022', nan, '11103', '11218', '10473',\n",
       "       '10475', '10468', '11102', '11213', '10033', '11427', '11693',\n",
       "       '10012', '11375', '10470', '10030', '11207', '10453', '11223',\n",
       "       '10469', '11208', '11235', '10314', '11209', '11204', '10305',\n",
       "       '11691', '11368', '11232', '10017', '11373', '11224', '11412',\n",
       "       '10004', '11203', '11374', '10466', '10038', '11106', '10304',\n",
       "       '11220', '10280', '11230', '11210', '11378', '10303', '11229',\n",
       "       '10463', '11435', '10080', '10454', '11372', '10455', '10451',\n",
       "       '11361', '10037', '11355', '11692', '10282', '10307', '11219',\n",
       "       '10467', '11358', '11415', '11356', '11432', '10464', '11370',\n",
       "       '11418', '11236', '11429', '10005', '11422', '11421', '10312',\n",
       "       '10460', '10471', '10006', '10462', '10459', '11417', '10007',\n",
       "       '11360', '11416', '11249\\n11249', '11109', '11357', '10458',\n",
       "       '11212', '11354', '11369', '10306', '10456', '11365', '11436',\n",
       "       '11414', '11228', '11366', '10457', '10461', '10310', '11420',\n",
       "       '11433', '11419', '11103-3233', '11214', '10474', '11694', ' ',\n",
       "       '10465', '10308', '10472', '11001', '11428', '11413', '11423',\n",
       "       '10129', '1009', '11364', '11411', ' 10036', '11385-2308', '10302',\n",
       "       '10281', '91766', '11426', '11362', 'NY 10016', '10174',\n",
       "       '11413-3220', '07093', 'NY 10005', '10278', '11692-2304',\n",
       "       'NY 10007', '11559', 'NY 10028', 'NY 10036', '11363', 'NY 10004',\n",
       "       'NY 10002', 'NY 10024', 'NY 10011', 'NY 10023', 'NY 10014',\n",
       "       'NY 10075', 'NY 10065', 'NY 10019', 'NY 10018', 'NY 10022',\n",
       "       'NY 10038', 'NY 10003', 'NY 10006', 'NY 10001', 'NY 10010',\n",
       "       '10309', '10270', 'NY 10012', '10118', ' 11374', '11239',\n",
       "       'NY 11249', 'NY 11201', 'NY 10128', '11243', '07302', 'NY 10017',\n",
       "       'NY 10280', '10704', '10041', '10271'], dtype=object)"
      ]
     },
     "execution_count": 11,
     "metadata": {},
     "output_type": "execute_result"
    }
   ],
   "source": [
    "listings['zipcode'].unique()"
   ]
  },
  {
   "cell_type": "code",
   "execution_count": 12,
   "metadata": {
    "scrolled": true
   },
   "outputs": [
    {
     "name": "stdout",
     "output_type": "stream",
     "text": [
      "221/221 Matches Found\n",
      "223\n"
     ]
    }
   ],
   "source": [
    "\"\"\"neighbourhood\n",
    "neighbourhood_cleansed\n",
    "neighbourhood_group_cleansed\n",
    "city\n",
    "state\n",
    "zipcode\n",
    "market\n",
    "smart_location\n",
    "country_code\n",
    "country\n",
    "latitude\n",
    "longitude\"\"\"\n",
    "lhoods = listings['neighbourhood_cleansed'].unique()\n",
    "\n",
    "count = 0\n",
    "for d in dhoods:\n",
    "    if d in lhoods:\n",
    "        count+=1\n",
    "\n",
    "print('%s/%s Matches Found'%(count,len(dhoods)))\n",
    "print(len(lhoods))"
   ]
  },
  {
   "cell_type": "code",
   "execution_count": 33,
   "metadata": {},
   "outputs": [],
   "source": [
    "ref = listings[['neighbourhood_cleansed','zipcode']]"
   ]
  },
  {
   "cell_type": "code",
   "execution_count": 34,
   "metadata": {},
   "outputs": [
    {
     "data": {
      "text/html": [
       "<div>\n",
       "<style scoped>\n",
       "    .dataframe tbody tr th:only-of-type {\n",
       "        vertical-align: middle;\n",
       "    }\n",
       "\n",
       "    .dataframe tbody tr th {\n",
       "        vertical-align: top;\n",
       "    }\n",
       "\n",
       "    .dataframe thead th {\n",
       "        text-align: right;\n",
       "    }\n",
       "</style>\n",
       "<table border=\"1\" class=\"dataframe\">\n",
       "  <thead>\n",
       "    <tr style=\"text-align: right;\">\n",
       "      <th></th>\n",
       "      <th>neighbourhood_cleansed</th>\n",
       "      <th>zipcode</th>\n",
       "    </tr>\n",
       "  </thead>\n",
       "  <tbody>\n",
       "    <tr>\n",
       "      <th>0</th>\n",
       "      <td>Washington Heights</td>\n",
       "      <td>10040</td>\n",
       "    </tr>\n",
       "    <tr>\n",
       "      <th>1</th>\n",
       "      <td>Midtown</td>\n",
       "      <td>10018</td>\n",
       "    </tr>\n",
       "    <tr>\n",
       "      <th>2</th>\n",
       "      <td>Clinton Hill</td>\n",
       "      <td>11238</td>\n",
       "    </tr>\n",
       "    <tr>\n",
       "      <th>3</th>\n",
       "      <td>Murray Hill</td>\n",
       "      <td>10016</td>\n",
       "    </tr>\n",
       "    <tr>\n",
       "      <th>4</th>\n",
       "      <td>Bedford-Stuyvesant</td>\n",
       "      <td>11216</td>\n",
       "    </tr>\n",
       "    <tr>\n",
       "      <th>...</th>\n",
       "      <td>...</td>\n",
       "      <td>...</td>\n",
       "    </tr>\n",
       "    <tr>\n",
       "      <th>50373</th>\n",
       "      <td>Chelsea</td>\n",
       "      <td>10001</td>\n",
       "    </tr>\n",
       "    <tr>\n",
       "      <th>50374</th>\n",
       "      <td>Sunnyside</td>\n",
       "      <td>11377</td>\n",
       "    </tr>\n",
       "    <tr>\n",
       "      <th>50375</th>\n",
       "      <td>Astoria</td>\n",
       "      <td>11102</td>\n",
       "    </tr>\n",
       "    <tr>\n",
       "      <th>50376</th>\n",
       "      <td>Hell's Kitchen</td>\n",
       "      <td>10036</td>\n",
       "    </tr>\n",
       "    <tr>\n",
       "      <th>50377</th>\n",
       "      <td>Bedford-Stuyvesant</td>\n",
       "      <td>11233</td>\n",
       "    </tr>\n",
       "  </tbody>\n",
       "</table>\n",
       "<p>50378 rows × 2 columns</p>\n",
       "</div>"
      ],
      "text/plain": [
       "      neighbourhood_cleansed zipcode\n",
       "0         Washington Heights   10040\n",
       "1                    Midtown   10018\n",
       "2               Clinton Hill   11238\n",
       "3                Murray Hill   10016\n",
       "4         Bedford-Stuyvesant   11216\n",
       "...                      ...     ...\n",
       "50373                Chelsea   10001\n",
       "50374              Sunnyside   11377\n",
       "50375                Astoria   11102\n",
       "50376         Hell's Kitchen   10036\n",
       "50377     Bedford-Stuyvesant   11233\n",
       "\n",
       "[50378 rows x 2 columns]"
      ]
     },
     "execution_count": 34,
     "metadata": {},
     "output_type": "execute_result"
    }
   ],
   "source": [
    "ref"
   ]
  },
  {
   "cell_type": "code",
   "execution_count": 46,
   "metadata": {},
   "outputs": [],
   "source": [
    "reference = ref.groupby(['neighbourhood_cleansed','zipcode'])"
   ]
  },
  {
   "cell_type": "code",
   "execution_count": 54,
   "metadata": {},
   "outputs": [
    {
     "data": {
      "text/plain": [
       "dict_keys([('Washington Heights', '10040'), ('Midtown', '10018'), ('Clinton Hill', '11238'), ('Murray Hill', '10016'), ('Bedford-Stuyvesant', '11216'), (\"Hell's Kitchen\", '10019'), ('Upper West Side', '10025'), ('Chinatown', '10002'), (\"Hell's Kitchen\", '10036'), ('West Village', '10014'), ('South Slope', '11215'), ('Williamsburg', '11211'), ('East Harlem', '10029'), ('Fort Greene', '11205'), ('Crown Heights', '11216'), ('Park Slope', '11217'), ('Inwood', '10034'), ('East Village', '10003'), ('Harlem', '10031'), ('Harlem', '10027'), ('Bedford-Stuyvesant', '11238'), ('Bushwick', '11237'), ('Flatbush', '11226'), ('Lower East Side', '10002'), ('East Village', '10009'), ('Prospect-Lefferts Gardens', '11225'), ('Long Island City', '11101'), ('Bedford-Stuyvesant', '11221'), ('Williamsburg', '11206'), ('Greenpoint', '11222'), ('Kips Bay', '10010'), ('Kips Bay', '10016'), (\"Hell's Kitchen\", '10018'), ('Nolita', '10002'), ('Williamsburg', '11249'), ('Chelsea', '10001'), ('Upper East Side', '10162'), ('Red Hook', '11231'), ('Prospect Heights', '11238'), ('Clinton Hill', '11205'), ('Park Slope', '11215'), ('East Harlem', '10035'), ('Washington Heights', '10032'), ('Woodside', '11377'), ('Chelsea', '10014'), ('Brooklyn Heights', '11201'), ('Bushwick', '11206'), ('Prospect Heights', '11217'), ('Bedford-Stuyvesant', '11233'), ('Carroll Gardens', '11231'), ('Gowanus', '11217'), ('Upper West Side', '10023'), ('Upper East Side', '10128'), ('Flatlands', '11234'), ('Cobble Hill', '11201'), ('Flushing', '11367'), ('Upper West Side', '10024'), ('Upper East Side', '10028'), ('Boerum Hill', '11217'), ('Upper West Side', '10069'), ('Sunnyside', '11104'), ('Upper East Side', '10065'), ('St. George', '10301'), ('Tribeca', '10013'), ('Highbridge', '10452'), ('Harlem', '10039'), ('Fort Greene', '11217'), ('Ridgewood', '11385'), ('Morningside Heights', '10025'), ('Upper East Side', '10021'), ('Chelsea', '10011'), ('Upper East Side', '10075'), ('Jamaica', '11434'), ('Bedford-Stuyvesant', '11206'), ('Middle Village', '11379'), ('Harlem', '10026'), ('Ditmars Steinway', '11105'), ('Flatiron District', '10010'), ('Windsor Terrace', '11215'), ('Roosevelt Island', '10044'), ('Midtown', '10022'), ('SoHo', '10013'), ('Greenwich Village', '10003'), ('East Harlem', '10027'), ('Little Italy', '10013'), ('Bushwick', '11221'), ('Tompkinsville', '10301'), ('Upper West Side', nan), ('Gramercy', '10010'), ('Astoria', '11103'), ('Kensington', '11218'), ('Clason Point', '10473'), ('Eastchester', '10475'), ('Little Italy', '10002'), ('Kingsbridge', '10468'), ('Williamsburg', nan), ('Astoria', '11102'), ('Crown Heights', '11213'), ('Bedford-Stuyvesant', '11205'), ('Washington Heights', '10033'), ('Queens Village', '11427'), ('Gowanus', '11215'), ('Rockaway Beach', '11693'), ('Midtown', '10001'), ('Crown Heights', '11238'), ('Fort Greene', nan), ('NoHo', '10012'), ('Forest Hills', '11375'), ('East Flatbush', '11226'), ('Midtown', '10016'), ('Nolita', '10012'), ('Greenwich Village', '10012'), ('Woodlawn', '10470'), ('Harlem', '10030'), ('Sunnyside', '11377'), ('SoHo', '10012'), ('Bushwick', '11207'), ('University Heights', '10453'), ('Gravesend', '11223'), ('Gramercy', '10003'), ('Astoria', '11101'), ('West Village', '10012'), ('Allerton', '10469'), ('East New York', '11208'), ('Crown Heights', '11225'), (\"Hell's Kitchen\", '10023'), ('Prospect-Lefferts Gardens', '11226'), ('Williamsburg', '11237'), ('Theater District', '10036'), ('Williamsburg', '11222'), ('Fort Greene', '11238'), ('Sheepshead Bay', '11235'), ('Emerson Hill', '10314'), ('Fort Hamilton', '11209'), ('Bensonhurst', '11204'), ('Midtown', '10010'), ('Shore Acres', '10305'), ('Chinatown', '10013'), ('Bayswater', '11691'), ('Corona', '11368'), ('Sunset Park', '11232'), ('West Village', '10011'), ('Midtown', '10017'), ('DUMBO', '11201'), ('Elmhurst', '11373'), ('Brighton Beach', '11224'), ('Cypress Hills', '11207'), ('St. Albans', '11412'), ('Arrochar', '10305'), ('Financial District', '10004'), ('East Flatbush', '11203'), ('Theater District', '10019'), ('Upper East Side', '10022'), ('Rego Park', '11374'), ('Wakefield', '10466'), ('Kensington', '11226'), ('Bushwick', nan), ('Bushwick', '11385'), ('Sunset Park', '11215'), ('Astoria', '11105'), ('Cypress Hills', '11208'), ('Cobble Hill', '11231'), ('Carroll Gardens', '11201'), ('Greenpoint', '11211'), ('Civic Center', '10038'), ('Astoria', '11106'), ('East New York', '11207'), ('Flatbush', '11218'), ('Clifton', '10304'), ('Bay Ridge', '11220'), ('Battery Park City', '10280'), ('Flatbush', '11230'), ('East Flatbush', '11210'), ('Sunset Park', '11220'), ('Maspeth', '11378'), ('Graniteville', '10303'), ('Sheepshead Bay', '11229'), ('Spuyten Duyvil', '10463'), ('Stapleton', '10304'), ('Midtown', '10019'), ('Briarwood', '11435'), ('Columbia St', '11231'), ('Financial District', '10080'), ('Harlem', '10032'), ('Morris Heights', '10453'), ('Windsor Terrace', '11218'), ('Greenwich Village', '10011'), ('Boerum Hill', '11201'), ('Brighton Beach', '11235'), ('Mott Haven', '10454'), ('Jackson Heights', '11372'), ('Longwood', '10455'), ('Harlem', '10451'), ('Crown Heights', '11226'), ('Morningside Heights', '10026'), ('Two Bridges', '10002'), ('Lower East Side', '10009'), ('Bayside', '11361'), ('East Elmhurst', '11372'), ('Concourse', '10452'), ('Harlem', '10037'), ('Flatiron District', '10016'), ('Greenwich Village', '10014'), ('Flushing', '11355'), ('Arverne', '11692'), ('Tribeca', nan), ('Murray Hill', '10022'), ('Tribeca', '10282'), ('Tottenville', '10307'), ('Bedford-Stuyvesant', nan), ('Tompkinsville', '10304'), ('Columbia St', '11201'), ('Inwood', '10040'), ('Maspeth', '11377'), ('Mariners Harbor', '10303'), ('Chelsea', '10036'), ('Harlem', '10025'), ('Concord', '10304'), ('Borough Park', '11219'), ('Allerton', '10467'), ('Flatiron District', '10011'), ('Williamsburg', '11205'), ('Harlem', '10035'), ('Flushing', '11358'), ('Astoria', nan), ('Long Island City', '11106'), (\"Hell's Kitchen\", '10001'), ('Downtown Brooklyn', '11201'), ('Lower East Side', '10023'), ('Kew Gardens', '11415'), ('Chelsea', '10010'), ('Gowanus', '11231'), ('Chelsea', '10003'), ('College Point', '11356'), ('Mount Eden', '10452'), ('Morningside Heights', '10027'), ('Briarwood', '11432'), ('Upper West Side', '10028'), ('Financial District', '10038'), ('Briarwood', nan), ('Vinegar Hill', '11201'), ('City Island', '10464'), ('Bay Ridge', '11209'), ('East Elmhurst', '11370'), ('East Harlem', '10037'), ('Carroll Gardens', '11217'), (\"Hell's Kitchen\", nan), ('Glendale', '11385'), ('Long Island City', nan), ('Richmond Hill', '11418'), ('Ditmars Steinway', '11370'), ('Washington Heights', '10030'), ('Kingsbridge', '10463'), ('Kensington', '11230'), ('Canarsie', '11236'), ('Long Island City', '11104'), ('Port Morris', '10454'), ('Two Bridges', '10038'), ('Crown Heights', '11233'), ('Queens Village', '11429'), ('Mott Haven', '10455'), ('Financial District', '10005'), ('Greenwich Village', '10013'), ('Clinton Hill', nan), ('East Village', '10002'), ('Queens Village', '11422'), ('Inwood', nan), ('Bedford-Stuyvesant', '11213'), ('Upper West Side', '10019'), ('Fort Hamilton', '11220'), ('St. Albans', '11434'), ('West Village', nan), ('Greenpoint', nan), ('Greenwich Village', '10002'), ('Williamsbridge', '10467'), ('Flatbush', '11210'), ('Soundview', '10473'), ('Woodhaven', '11421'), ('Murray Hill', '10017'), ('Woodrow', '10312'), ('Co-op City', '10475'), ('Bushwick', '11233'), ('Stuyvesant Town', '10009'), ('SoHo', '10014'), ('Gowanus', '11201'), ('Kips Bay', '10003'), ('Parkchester', '10460'), ('East Harlem', '10026'), ('North Riverdale', '10471'), ('Crown Heights', nan), ('Financial District', '10006'), ('Battery Park City', nan), ('Dyker Heights', '11220'), ('NoHo', '10003'), ('Bronxdale', '10462'), ('East Village', nan), ('Longwood', '10459'), ('Chelsea', nan), ('Cobble Hill', '11217'), ('Borough Park', '11220'), ('Battery Park City', '10005'), ('Upper West Side', '11206'), ('Fort Greene', '11201'), ('Lower East Side', '10012'), ('Battery Park City', '10004'), ('Sea Gate', '11224'), ('Jamaica', '11432'), ('Riverdale', '10463'), ('NoHo', '10023'), ('Chinatown', nan), ('Civic Center', '10013'), ('Ozone Park', '11417'), ('Tribeca', '10007'), ('East Harlem', '10031'), ('Bay Terrace', '11360'), ('Ozone Park', '11416'), ('Ridgewood', '11237'), ('Flatlands', '11210'), ('Borough Park', '11232'), ('Norwood', '10467'), ('Williamsburg', '11249\\n11249'), ('Concord', '10305'), ('Flatbush', '11225'), ('Claremont Village', nan), ('Long Island City', '11109'), ('Whitestone', '11357'), ('Fordham', '10458'), ('Upper East Side', '10017'), ('Flatbush', nan), ('East Harlem', '10128'), ('Sunnyside', nan), ('Battery Park City', '10282'), ('East Flatbush', '11212'), ('Bensonhurst', '11219'), ('Concourse Village', '10452'), ('Nolita', nan), ('Borough Park', '11204'), ('Flushing', '11354'), ('Williamsbridge', '10469'), ('Fieldston', '10471'), ('Sunset Park', nan), ('Upper East Side', '10035'), ('Nolita', '10013'), ('Cypress Hills', '11233'), ('Mott Haven', '10451'), ('Washington Heights', nan), ('Tribeca', '10038'), ('Eltingville', '10312'), ('Fresh Meadows', '11358'), ('East Flatbush', nan), ('Harlem', nan), ('Brownsville', '11213'), ('East Village', '11106'), ('Brownsville', '11233'), ('Concourse Village', '10451'), ('Bushwick', '11211'), ('Midwood', '11230'), ('Navy Yard', '11205'), ('Graniteville', '10314'), ('Mount Hope', '10453'), ('East Elmhurst', '11369'), ('Woodside', '11373'), ('Theater District', nan), ('Stapleton', '10301'), ('Roosevelt Island', '10019'), ('Lighthouse Hill', '10306'), ('Concourse Village', '10456'), ('Civic Center', nan), ('Norwood', '10458'), ('Ditmars Steinway', '11102'), ('Flushing', '11365'), ('Jamaica', '11436'), ('Howard Beach', '11414'), ('East Flatbush', '11236'), ('Gramercy', '10009'), ('Kew Gardens Hills', '11367'), ('Jamaica Estates', '11432'), ('Dyker Heights', '11228'), ('Bellerose', nan), ('Flatiron District', '10001'), ('Civic Center', '10003'), ('Fresh Meadows', '11366'), ('Woodhaven', nan), ('Flushing', '10039'), ('Midwood', '11210'), ('Mount Hope', '10457'), ('Morris Park', '10461'), ('West Brighton', '10310'), ('Chinatown', '10012'), ('Far Rockaway', '11691'), ('South Ozone Park', '11420'), ('Tremont', '10460'), ('Upper West Side', '10038'), ('East Harlem', nan), ('Springfield Gardens', '11434'), ('Jackson Heights', '11373'), ('Prospect-Lefferts Gardens', '11203'), ('Jamaica', '11433'), ('Bedford-Stuyvesant', '11237'), ('Lower East Side', nan), ('Woodside', nan), ('Longwood', '10456'), ('East Village', '10035'), ('Manhattan Beach', '11235'), ('Concourse', '10451'), ('Gravesend', '11230'), ('Financial District', '10007'), ('Sheepshead Bay', '11223'), ('Park Slope', nan), ('Ozone Park', '11419'), ('Lower East Side', '10019'), ('Marble Hill', '10463'), ('Springfield Gardens', '11412'), ('Dongan Hills', '10305'), ('Midwood', '11229'), ('Financial District', '10014'), ('Stuyvesant Town', '10010'), ('Astoria', '11103-3233'), ('Bensonhurst', '11214'), ('Castleton Corners', '10314'), ('Fresh Meadows', '11365'), ('Maspeth', '11373'), ('East Village', '10017'), ('Gramercy', '10021'), ('Battery Park City', '10006'), ('Boerum Hill', nan), ('Hunts Point', '10474'), ('Long Island City', '11377'), ('Richmond Hill', '11419'), ('Neponsit', '11694'), ('Sunnyside', ' '), ('Prospect-Lefferts Gardens', nan), ('Jackson Heights', '11368'), ('Pelham Bay', '10461'), ('Bensonhurst', '11223'), ('Randall Manor', '10310'), ('Ridgewood', nan), ('Harlem', '10029'), ('East Flatbush', '11205'), ('Throgs Neck', '10465'), ('Todt Hill', '10301'), ('West Farms', '10460'), ('Great Kills', '10308'), ('East Village', '10018'), ('Silver Lake', '10301'), ('Soundview', '10472'), ('Bellerose', '11001'), ('Theater District', '10018'), ('Cobble Hill', nan), ('Downtown Brooklyn', '11217'), ('Queens Village', '11428'), ('Morrisania', '10451'), ('Laurelton', '11413'), ('Fordham', '10468'), ('Gravesend', '11214'), ('Grymes Hill', '10304'), ('Holliswood', '11423'), ('Upper East Side', nan), ('Midtown', '10036'), ('Flatiron District', nan), ('Brownsville', '11212'), ('Pelham Gardens', '10469'), ('Astoria', '11377'), ('Parkchester', '10462'), ('Murray Hill', nan), ('Belmont', '10458'), ('Allerton', '10462'), ('Prospect Heights', nan), ('Downtown Brooklyn', nan), ('Rego Park', '11375'), ('Jamaica', '11435'), ('Maspeth', '11385'), ('Upper West Side', '10018'), ('Morningside Heights', '10035'), ('Rosedale', '11422'), ('Upper East Side', '10029'), ('Midtown', nan), ('Forest Hills', nan), ('Bedford-Stuyvesant', '10013'), ('Crown Heights', '11235'), ('Crown Heights', '11201'), ('Upper East Side', '10129'), ('West Village', '10036'), ('Sunnyside', '11101'), ('Morningside Heights', nan), ('Lower East Side', '10003'), ('Jackson Heights', nan), ('Borough Park', '11210'), ('Midtown', '10013'), ('Springfield Gardens', '11413'), ('Crown Heights', '11203'), ('Long Island City', '11102'), ('Fordham', '10457'), ('Edgemere', '11691'), ('Chinatown', '10038'), ('Flushing', '11366'), ('New Brighton', '10301'), ('Gramercy', '10016'), ('Columbia St', nan), ('Midland Beach', '10306'), ('Fieldston', '10463'), ('Baychester', '10469'), ('Forest Hills', '11374'), ('Carroll Gardens', nan), ('Jamaica Estates', '11423'), ('Borough Park', nan), ('Prospect-Lefferts Gardens', '11222'), ('East Village', '1009'), ('Maspeth', '11379'), ('Belle Harbor', '11694'), ('Bergen Beach', '11234'), ('Bayside', '11364'), ('Cambria Heights', '11411'), (\"Hell's Kitchen\", ' 10036'), ('Parkchester', '10472'), ('Richmondtown', '10306'), ('East Harlem', '10129'), ('Civic Center', '10002'), ('South Ozone Park', '11436'), ('Claremont Village', '10456'), ('East Flatbush', '11225'), ('Bayside', '11360'), ('Gravesend', nan), ('Tremont', '10457'), ('Harlem', '10033'), ('Washington Heights', '10031'), ('Port Morris', '10451'), ('East Harlem', '10028'), ('Upper West Side', '10003'), ('Howard Beach', '11208'), ('Bensonhurst', '11228'), ('South Slope', nan), ('University Heights', '10468'), ('Dyker Heights', '11219'), ('Howland Hook', '10303'), ('Melrose', '10451'), ('Lower East Side', '10013'), ('Financial District', nan), ('Concourse', nan), ('Coney Island', '11224'), ('New Dorp Beach', '10306'), ('Cambria Heights', '11429'), ('Jamaica', '11420'), ('Van Nest', '10460'), ('St. Albans', '11433'), ('Claremont Village', '10457'), ('Greenwich Village', nan), ('Theater District', '11203'), (\"Prince's Bay\", '10312'), ('Ridgewood', '11385-2308'), ('Richmond Hill', '11415'), ('Laurelton', '11422'), ('South Beach', '10305'), ('Ditmars Steinway', '11103'), ('Sunset Park', '11209'), ('Kew Gardens Hills', '11435'), ('Bath Beach', '11214'), ('Borough Park', '11218'), ('Woodlawn', '10467'), ('St. Albans', '11429'), ('Jamaica Hills', '11432'), ('Stuyvesant Town', '10003'), ('Eltingville', '10308'), ('Gramercy', '10011'), ('Kew Gardens Hills', '11427'), ('Kew Gardens Hills', nan), ('Oakwood', '10306'), ('Elmhurst', '11379'), ('Canarsie', '11374'), ('Borough Park', '11229'), ('Theater District', '10001'), ('Clinton Hill', '11216'), ('East Harlem', '10030'), ('Hollis', '11423'), ('Schuylerville', '10465'), ('Navy Yard', '11201'), ('Morris Park', '10462'), ('Ridgewood', '11377'), ('Stuyvesant Town', nan), ('Randall Manor', '10302'), ('Tompkinsville', nan), ('Fresh Meadows', nan), ('Fordham', '10453'), (\"Hell's Kitchen\", '10022'), ('Schuylerville', '10461'), ('Huguenot', '10312'), ('Olinville', '10467'), ('Park Slope', '11218'), ('Morris Heights', '10452'), ('Bath Beach', '11228'), ('East Flatbush', '11220'), ('Edenwald', '10466'), ('Ditmars Steinway', nan), ('Upper West Side', '10022'), ('East Flatbush', '11234'), ('Brownsville', '11207'), ('Wakefield', '10467'), ('Port Richmond', '10302'), ('Mount Eden', '10457'), ('Bergen Beach', '11236'), ('Greenpoint', '11249'), ('Jackson Heights', '11377'), ('Westerleigh', '10314'), ('Wakefield', '10470'), ('Financial District', '10281'), ('Bay Ridge', nan), ('Kew Gardens Hills', '91766'), ('Morrisania', '10459'), ('Lower East Side', '10038'), ('Bellerose', '11426'), ('Civic Center', '10128'), ('Gramercy', '10036'), ('East Morrisania', '10460'), ('Rockaway Beach', '11692'), ('Flatlands', '11218'), ('Williamsbridge', nan), ('Douglaston', '11362'), ('Unionport', '10473'), ('Fort Wadsworth', '10305'), ('Kew Gardens', '11418'), ('Financial District', '10016'), ('Westchester Square', '10461'), ('Ridgewood', '11378'), ('South Ozone Park', '11434'), ('Unionport', nan), ('Morrisania', '10456'), ('Kips Bay', 'NY 10016'), ('New Springville', '10314'), ('Mill Basin', '11234'), ('Murray Hill', '10174'), ('Springfield Gardens', '11413-3220'), ('Elmhurst', '11374'), ('Midwood', nan), ('Battery Park City', '10013'), (\"Hell's Kitchen\", '07093'), ('Crown Heights', '11215'), ('Longwood', '10451'), ('Rosedale', '11413'), ('SoHo', nan), ('Pelham Bay', '10469'), ('East Elmhurst', nan), ('Brownsville', nan), ('Van Nest', '10462'), ('Bergen Beach', '10013'), ('Ridgewood', '11207'), ('East Elmhurst', '11377'), (\"Hell's Kitchen\", '10025'), ('Financial District', 'NY 10005'), ('Gowanus', nan), ('Pelham Gardens', '10461'), ('Howard Beach', nan), ('Kingsbridge', nan), ('Arden Heights', '10312'), ('Flatlands', nan), ('Battery Park City', '10007'), (\"Bull's Head\", '10314'), ('Elmhurst', nan), ('South Beach', '10304'), ('Woodlawn', '10466'), ('Murray Hill', 'NY 10016'), ('Civic Center', '10278'), ('Bath Beach', '11218'), ('Greenpoint', '11206'), ('Gravesend', '11204'), ('Grant City', '10306'), ('New Dorp', '10306'), ('South Ozone Park', nan), ('Bushwick', '10009'), ('Midwood', '11223'), ('SoHo', '10009'), ('Arverne', '11692-2304'), ('Castleton Corners', '10310'), ('Tribeca', 'NY 10007'), ('Bedford-Stuyvesant', '11207'), ('Randall Manor', '10301'), ('Far Rockaway', '11559'), ('Greenwich Village', '10018'), ('Chinatown', '10003'), ('Financial District', '10003'), ('Upper East Side', 'NY 10028'), ('Jackson Heights', '11369'), ('Unionport', '10472'), ('Midtown', '10006'), ('Hollis', '11432'), ('Chelsea', '10018'), ('Breezy Point', '11694'), ('Castle Hill', '10473'), ('Theater District', 'NY 10036'), ('Sunset Park', '10128'), ('Gramercy', nan), ('Willowbrook', '10314'), ('Grymes Hill', '10301'), ('Douglaston', '11363'), ('Springfield Gardens', nan), ('Mott Haven', nan), ('Gravesend', '11235'), ('Cambria Heights', '11413'), ('Financial District', 'NY 10004'), ('Jamaica', '11412'), ('Rosebank', '10305'), ('Hollis', '11428'), ('East Village', 'NY 10002'), ('Maspeth', nan), ('Elmhurst', '11372'), ('Long Island City', '11103'), ('Gerritsen Beach', '11229'), ('Bay Terrace', nan), ('Richmond Hill', '11420'), ('Upper West Side', 'NY 10024'), ('Cypress Hills', nan), ('Chelsea', 'NY 10011'), ('Upper West Side', 'NY 10023'), ('Todt Hill', '10304'), ('Flushing', nan), ('Morningside Heights', '10031'), ('Kips Bay', nan), ('Jackson Heights', '11370'), ('College Point', '11415'), ('West Village', 'NY 10014'), ('Upper East Side', 'NY 10075'), ('Dongan Hills', '10306'), ('Little Neck', '11362'), ('Rego Park', '11373'), ('Upper East Side', 'NY 10065'), (\"Hell's Kitchen\", 'NY 10019'), ('Midtown', 'NY 10018'), ('Midtown', 'NY 10022'), ('Financial District', 'NY 10038'), ('East Village', 'NY 10003'), ('Financial District', 'NY 10006'), (\"Hell's Kitchen\", 'NY 10036'), ('Borough Park', '11230'), ('East Morrisania', '10459'), ('Ozone Park', '11421'), ('Chelsea', 'NY 10001'), ('Midtown', 'NY 10019'), ('Upper East Side', '11221'), ('Melrose', '10455'), ('Westchester Square', '10462'), ('Richmondtown', '10301'), ('East Village', '10007'), ('Cypress Hills', '11221'), ('Theater District', 'NY 10019'), ('Todt Hill', '10314'), ('Bay Terrace, Staten Island', '10308'), ('Upper East Side', '10018'), ('Gramercy', 'NY 10010'), ('Midtown', 'NY 10001'), ('East Flatbush', '11213'), (\"Prince's Bay\", '10309'), ('West Village', '10010'), ('Elmhurst', '11375'), ('Highbridge', nan), ('Financial District', '10270'), ('Chinatown', '10014'), ('Wakefield', '10469'), ('Nolita', 'NY 10012'), ('Williamsburg', '10006'), ('Bellerose', '11427'), ('Midtown', '10118'), ('Norwood', '10468'), ('East Flatbush', '11206'), ('Jamaica Estates', '11366'), ('SoHo', 'NY 10012'), ('Cambria Heights', '11422'), ('Woodside', ' 11374'), ('Little Neck', '11363'), ('Woodhaven', '11416'), ('Country Club', '10465'), ('Morris Park', '10469'), ('East Elmhurst', '11368'), ('East Harlem', '10014'), ('West Village', 'NY 10011'), ('Tribeca', '10006'), ('East New York', '11239'), ('West Village', '10018'), ('Unionport', '10462'), ('Greenwich Village', '10024'), ('Washington Heights', '10039'), ('Rossville', '10309'), ('Murray Hill', '10006'), ('Williamsburg', 'NY 11249'), ('Concourse Village', nan), ('Belmont', '10457'), ('Brooklyn Heights', 'NY 11201'), ('Kips Bay', '10001'), ('East New York', '11212'), ('Woodside', '11103'), ('Murray Hill', '10018'), ('Ridgewood', '11379'), ('Upper East Side', 'NY 10128'), ('East Morrisania', '10472'), ('Chelsea', '10009'), ('Flatbush', '10009'), ('Prospect-Lefferts Gardens', '11221'), ('Fort Greene', '11243'), ('Flatbush', '11221'), ('Rego Park', '11368'), ('Kensington', '11225'), ('Williamsburg', '07302'), ('Crown Heights', '11212'), ('Bay Ridge', '11223'), ('Jamaica', '10032'), ('Midtown', 'NY 10017'), ('Upper West Side', '10001'), ('West Brighton', '10301'), ('Long Island City', '10010'), ('Forest Hills', '11385'), ('Upper West Side', '10032'), ('Midtown', '11101'), ('Upper East Side', '11101'), ('Ozone Park', '10029'), ('Battery Park City', 'NY 10280'), ('Wakefield', '10704'), ('Elmhurst', '11377'), ('Washington Heights', '11103'), ('Chelsea', 'NY 10010'), ('DUMBO', '10041'), ('Financial District', '10271'), ('Gravesend', '11224'), ('Kensington', '11229'), ('Murray Hill', '10036'), ('Riverdale', '10471')])"
      ]
     },
     "execution_count": 54,
     "metadata": {},
     "output_type": "execute_result"
    }
   ],
   "source": [
    "out = reference.groups.keys()\n",
    "out"
   ]
  },
  {
   "cell_type": "code",
   "execution_count": 52,
   "metadata": {},
   "outputs": [
    {
     "data": {
      "text/plain": [
       "440"
      ]
     },
     "execution_count": 52,
     "metadata": {},
     "output_type": "execute_result"
    }
   ],
   "source": [
    "listings['zipcode'].isna().sum()"
   ]
  },
  {
   "cell_type": "code",
   "execution_count": 55,
   "metadata": {},
   "outputs": [
    {
     "ename": "AttributeError",
     "evalue": "'dict_keys' object has no attribute 'to_csv'",
     "output_type": "error",
     "traceback": [
      "\u001b[0;31m---------------------------------------------------------------------------\u001b[0m",
      "\u001b[0;31mAttributeError\u001b[0m                            Traceback (most recent call last)",
      "\u001b[0;32m<ipython-input-55-16b0be82c8b3>\u001b[0m in \u001b[0;36m<module>\u001b[0;34m\u001b[0m\n\u001b[0;32m----> 1\u001b[0;31m \u001b[0mout\u001b[0m\u001b[0;34m.\u001b[0m\u001b[0mto_csv\u001b[0m\u001b[0;34m(\u001b[0m\u001b[0;34m'data/zip_ref.csv'\u001b[0m\u001b[0;34m,\u001b[0m\u001b[0mindex\u001b[0m\u001b[0;34m=\u001b[0m\u001b[0;32mFalse\u001b[0m\u001b[0;34m)\u001b[0m\u001b[0;34m\u001b[0m\u001b[0;34m\u001b[0m\u001b[0m\n\u001b[0m",
      "\u001b[0;31mAttributeError\u001b[0m: 'dict_keys' object has no attribute 'to_csv'"
     ]
    }
   ],
   "source": [
    "out.to_csv('data/zip_ref.csv',index=False)"
   ]
  },
  {
   "cell_type": "code",
   "execution_count": null,
   "metadata": {},
   "outputs": [],
   "source": []
  },
  {
   "cell_type": "code",
   "execution_count": 1,
   "metadata": {},
   "outputs": [],
   "source": [
    "import geopy\n",
    "import pandas as pd\n",
    "\n",
    "\n",
    "def get_zipcode(df, geolocator, lat_field, lon_field):\n",
    "    location = geolocator.reverse((df[lat_field], df[lon_field]))\n",
    "    return location.raw['address']['postcode']"
   ]
  },
  {
   "cell_type": "code",
   "execution_count": 2,
   "metadata": {},
   "outputs": [],
   "source": [
    "\n",
    "geolocator = geopy.Nominatim(user_agent='my-application')\n",
    "\n",
    "df = pd.DataFrame({\n",
    "    'Lat': [29.39291, 29.39923, 29.40147, 29.38752, 29.39291, 29.39537, 29.39343, 29.39291, 29.39556],\n",
    "    'Lon': [-98.50925, -98.51256, -98.51123, -98.52372, -98.50925, -98.50402, -98.49707, -98.50925, -98.53148]\n",
    "})\n",
    "zipcodes = df.apply(get_zipcode, axis=1, geolocator=geolocator, lat_field='Lat', lon_field='Lon')"
   ]
  },
  {
   "cell_type": "code",
   "execution_count": 3,
   "metadata": {},
   "outputs": [
    {
     "data": {
      "text/plain": [
       "0    78204\n",
       "1    78204\n",
       "2    78204\n",
       "3    78225\n",
       "4    78204\n",
       "5    78204\n",
       "6    78204\n",
       "7    78204\n",
       "8    78225\n",
       "dtype: object"
      ]
     },
     "execution_count": 3,
     "metadata": {},
     "output_type": "execute_result"
    }
   ],
   "source": [
    "zipcodes"
   ]
  },
  {
   "cell_type": "code",
   "execution_count": null,
   "metadata": {},
   "outputs": [],
   "source": []
  },
  {
   "cell_type": "code",
   "execution_count": null,
   "metadata": {},
   "outputs": [],
   "source": []
  },
  {
   "cell_type": "code",
   "execution_count": null,
   "metadata": {},
   "outputs": [],
   "source": []
  },
  {
   "cell_type": "code",
   "execution_count": null,
   "metadata": {},
   "outputs": [],
   "source": []
  }
 ],
 "metadata": {
  "kernelspec": {
   "display_name": "Python 3",
   "language": "python",
   "name": "python3"
  },
  "language_info": {
   "codemirror_mode": {
    "name": "ipython",
    "version": 3
   },
   "file_extension": ".py",
   "mimetype": "text/x-python",
   "name": "python",
   "nbconvert_exporter": "python",
   "pygments_lexer": "ipython3",
   "version": "3.7.4"
  }
 },
 "nbformat": 4,
 "nbformat_minor": 4
}
